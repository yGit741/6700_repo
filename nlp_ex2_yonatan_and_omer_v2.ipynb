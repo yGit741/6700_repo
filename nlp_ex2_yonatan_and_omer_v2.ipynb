{
  "nbformat": 4,
  "nbformat_minor": 0,
  "metadata": {
    "colab": {
      "provenance": [],
      "include_colab_link": true
    },
    "kernelspec": {
      "name": "python3",
      "display_name": "Python 3"
    }
  },
  "cells": [
    {
      "cell_type": "markdown",
      "metadata": {
        "id": "view-in-github",
        "colab_type": "text"
      },
      "source": [
        "<a href=\"https://colab.research.google.com/github/yGit741/6700_repo/blob/master/nlp_ex2_yonatan_and_omer_v2.ipynb\" target=\"_parent\"><img src=\"https://colab.research.google.com/assets/colab-badge.svg\" alt=\"Open In Colab\"/></a>"
      ]
    },
    {
      "cell_type": "markdown",
      "metadata": {
        "id": "k-WJBimYDLJS"
      },
      "source": [
        "# Natural Language Processing\n",
        "![](https://i.imgur.com/qkg2E2D.png)\n",
        "\n",
        "## Assignment 002 - NER Tagger\n",
        "\n",
        "> Notebook by:\n",
        "> - NLP Course Stuff\n",
        "## Revision History\n",
        "\n",
        "| Version | Date       | User        | Content / Changes                                                   |\n",
        "|---------|------------|-------------|---------------------------------------------------------------------|\n",
        "| 0.1.000 | 29/05/2025 | course staff| First version                                                       |\n",
        "| 0.2.000 | 09/06/2025 | course staff| Second version                                                       |"
      ]
    },
    {
      "cell_type": "markdown",
      "source": [
        "## Overview\n",
        "In this assignment, you will build a complete training and testing pipeline for a neural sequential tagger for named entities using LSTM.\n",
        "\n",
        "## Dataset\n",
        "You will work with the ReCoNLL 2003 dataset, a corrected version of the [CoNLL 2003 dataset](https://www.clips.uantwerpen.be/conll2003/ner/):\n",
        "\n",
        "**Click on those links so you have access to the data!**\n",
        "- [Train data](https://drive.google.com/file/d/1CqEGoLPVKau3gvVrdG6ORyfOEr1FSZGf/view?usp=sharing)\n",
        "\n",
        "- [Dev data](https://drive.google.com/file/d/1rdUida-j3OXcwftITBlgOh8nURhAYUDw/view?usp=sharing)\n",
        "\n",
        "- [Test data](https://drive.google.com/file/d/137Ht40OfflcsE6BIYshHbT5b2iIJVaDx/view?usp=sharing)\n",
        "\n",
        "As you will see, the annotated texts are labeled according to the `IOB` annotation scheme (more on this below), for 3 entity types: Person, Organization, Location.\n",
        "\n",
        "## Your Implementation\n",
        "\n",
        "Please create a local copy of this template Colab's Notebook:\n",
        "\n",
        "[![Open In Colab](https://colab.research.google.com/assets/colab-badge.svg)](https://colab.research.google.com/drive/1KGkObwUn5QQm_v0nB0nAUlB4YrwThuzl#scrollTo=Z-fCqGh9ybgm)\n",
        "\n",
        "The assignment's instructions are there; follow the notebook.\n",
        "\n",
        "## Submission\n",
        "- **Notebook Link**: Add the URL to your assignment's notebook in the `notebook_link.txt` file, following the format provided in the example.\n",
        "- **Access**: Ensure the link has edit permissions enabled to allow modifications if needed.\n",
        "- **Deadline**: <font color='green'>16/06/2025</font>.\n",
        "- **Platform**: Continue using GitHub for submissions. Push your project to the team repository and monitor the test results under the actions section.\n",
        "\n",
        "Good Luck 🤗\n"
      ],
      "metadata": {
        "id": "Z-fCqGh9ybgm"
      }
    },
    {
      "cell_type": "markdown",
      "source": [
        "<!-- ## NER schemes:  \n",
        "\n",
        "> `IO`: is the simplest scheme that can be applied to this task. In this scheme, each token from the dataset is assigned one of two tags: an inside tag (`I`) and an outside tag (`O`). The `I` tag is for named entities, whereas the `O` tag is for normal words. This scheme has a limitation, as it cannot correctly encode consecutive entities of the same type.\n",
        "\n",
        "> `IOB`: This scheme is also referred to in the literature as BIO and has been adopted by the Conference on Computational Natural Language Learning (CoNLL) [1]. It assigns a tag to each word in the text, determining whether it is the beginning (`B`) of a known named entity, inside (`I`) it, or outside (`O`) of any known named entities.\n",
        "\n",
        "> `IOE`: This scheme works nearly identically to `IOB`, but it indicates the end of the entity (`E` tag) instead of its beginning.\n",
        "\n",
        "> `IOBES`: An alternative to the IOB scheme is `IOBES`, which increases the amount of information related to the boundaries of named entities. In addition to tagging words at the beginning (`B`), inside (`I`), end (`E`), and outside (`O`) of a named entity. It also labels single-token entities with the tag `S`.\n",
        "\n",
        "> `BI`: This scheme tags entities in a similar method to `IOB`. Additionally, it labels the beginning of non-entity words with the tag B-O and the rest as I-O.\n",
        "\n",
        "> `IE`: This scheme works exactly like `IOE` with the distinction that it labels the end of non-entity words with the tag `E-O` and the rest as `I-O`.\n",
        "\n",
        "> `BIES`: This scheme encodes the entities similar to `IOBES`. In addition, it also encodes the non-entity words using the same method. It uses `B-O` to tag the beginning of non-entity words, `I-O` to tag the inside of non-entity words, and `S-O` for single non-entity tokens that exist between two entities. -->\n",
        "\n",
        "\n",
        "## NER Schemes\n",
        "\n",
        "### IO\n",
        "- **Description**: The simplest scheme for named entity recognition (NER).\n",
        "- **Tags**:\n",
        "  - `I`: Inside a named entity.\n",
        "  - `O`: Outside any named entity.\n",
        "- **Limitation**: Cannot correctly encode consecutive entities of the same type.\n",
        "\n",
        "### IOB (BIO)\n",
        "- **Description**: Adopted by the Conference on Computational Natural Language Learning (CoNLL).\n",
        "- **Tags**:\n",
        "  - `B`: Beginning of a named entity.\n",
        "  - `I`: Inside a named entity.\n",
        "  - `O`: Outside any named entity.\n",
        "- **Advantage**: Can encode the boundaries of consecutive entities.\n",
        "\n",
        "### IOE\n",
        "- **Description**: Similar to IOB, but indicates the end of an entity.\n",
        "- **Tags**:\n",
        "  - `I`: Inside a named entity.\n",
        "  - `O`: Outside any named entity.\n",
        "  - `E`: End of a named entity.\n",
        "- **Advantage**: Focuses on the end boundary of entities.\n",
        "\n",
        "### IOBES\n",
        "- **Description**: An extension of IOB with additional boundary information.\n",
        "- **Tags**:\n",
        "  - `B`: Beginning of a named entity.\n",
        "  - `I`: Inside a named entity.\n",
        "  - `O`: Outside any named entity.\n",
        "  - `E`: End of a named entity.\n",
        "  - `S`: Single-token named entity.\n",
        "- **Advantage**: Provides more detailed boundary information for named entities.\n",
        "\n",
        "### BI\n",
        "- **Description**: Tags entities similarly to IOB and labels the beginning of non-entity words.\n",
        "- **Tags**:\n",
        "  - `B`: Beginning of a named entity.\n",
        "  - `I`: Inside a named entity.\n",
        "  - `B-O`: Beginning of a non-entity word.\n",
        "  - `I-O`: Inside a non-entity word.\n",
        "- **Advantage**: Distinguishes the beginning of non-entity sequences.\n",
        "\n",
        "### IE\n",
        "- **Description**: Similar to IOE but for non-entity words.\n",
        "- **Tags**:\n",
        "  - `I`: Inside a named entity.\n",
        "  - `O`: Outside any named entity.\n",
        "  - `E`: End of a named entity.\n",
        "  - `E-O`: End of a non-entity word.\n",
        "  - `I-O`: Inside a non-entity word.\n",
        "- **Advantage**: Highlights the end of non-entity sequences.\n",
        "\n",
        "### BIES\n",
        "- **Description**: Encodes both entities and non-entity words using the IOBES method.\n",
        "- **Tags**:\n",
        "  - `B`: Beginning of a named entity.\n",
        "  - `I`: Inside a named entity.\n",
        "  - `O`: Outside any named entity.\n",
        "  - `E`: End of a named entity.\n",
        "  - `S`: Single-token named entity.\n",
        "  - `B-O`: Beginning of a non-entity word.\n",
        "  - `I-O`: Inside a non-entity word.\n",
        "  - `S-O`: Single non-entity token.\n",
        "- **Advantage**: Comprehensive encoding for both entities and non-entities.\n",
        "\n",
        "\n"
      ],
      "metadata": {
        "id": "VOy8IghquR6x"
      }
    },
    {
      "cell_type": "code",
      "source": [
        "!mkdir data\n",
        "# Fetch data\n",
        "# train_link = 'https://drive.google.com/file/d/1CqEGoLPVKau3gvVrdG6ORyfOEr1FSZGf/view?usp=sharing'\n",
        "# dev_link   = 'https://drive.google.com/file/d/1rdUida-j3OXcwftITBlgOh8nURhAYUDw/view?usp=sharing'\n",
        "# test_link  = 'https://drive.google.com/file/d/137Ht40OfflcsE6BIYshHbT5b2iIJVaDx/view?usp=sharing'\n",
        "\n",
        "!wget -q --no-check-certificate 'https://docs.google.com/uc?export=download&id=1CqEGoLPVKau3gvVrdG6ORyfOEr1FSZGf' -O data/train.txt\n",
        "!wget -q --no-check-certificate 'https://docs.google.com/uc?export=download&id=1rdUida-j3OXcwftITBlgOh8nURhAYUDw' -O data/dev.txt\n",
        "!wget -q --no-check-certificate 'https://docs.google.com/uc?export=download&id=137Ht40OfflcsE6BIYshHbT5b2iIJVaDx' -O data/test.txt\n"
      ],
      "metadata": {
        "id": "bRwONXCzi28v"
      },
      "execution_count": 3,
      "outputs": []
    },
    {
      "cell_type": "code",
      "source": [
        "# Any additional needed libraries\n",
        "# !pip install --q\n",
        "\n",
        "import datetime\n",
        "import os\n",
        "\n",
        "################################ Mount Options #################################\n",
        "USE_DRIVE = True\n",
        "DRIVE_SUBFOLDER = \"MLDS/NLP - 250253/ex2-v2\" # change for your drive\n",
        "\n",
        "if USE_DRIVE:\n",
        "    from google.colab import drive\n",
        "    drive.mount('/content/drive')\n",
        "    base_path = \"/content/drive/MyDrive\"\n",
        "    FOLDER_PATH = os.path.join(base_path, DRIVE_SUBFOLDER)\n",
        "    os.makedirs(FOLDER_PATH, exist_ok=True)\n",
        "\n",
        "    # Path to toy test file\n",
        "    test_file_path = os.path.join(FOLDER_PATH, 'test_mount.txt')\n",
        "\n",
        "    # Write a simple message\n",
        "    with open(test_file_path, 'w') as f:\n",
        "        f.write('✅ Mount test successful!')\n",
        "\n",
        "else:\n",
        "    FOLDER_PATH = \"/content\"\n",
        "\n",
        "print(f\"✅ All files will be saved to: {FOLDER_PATH}\")"
      ],
      "metadata": {
        "id": "5QNUSyEwvWqn",
        "colab": {
          "base_uri": "https://localhost:8080/",
          "height": 382
        },
        "outputId": "d774a23d-7a8e-45cc-bb56-b45c6397d7c9"
      },
      "execution_count": 4,
      "outputs": [
        {
          "output_type": "error",
          "ename": "ValueError",
          "evalue": "mount failed",
          "traceback": [
            "\u001b[0;31m---------------------------------------------------------------------------\u001b[0m",
            "\u001b[0;31mValueError\u001b[0m                                Traceback (most recent call last)",
            "\u001b[0;32m<ipython-input-4-112431954>\u001b[0m in \u001b[0;36m<cell line: 0>\u001b[0;34m()\u001b[0m\n\u001b[1;32m     11\u001b[0m \u001b[0;32mif\u001b[0m \u001b[0mUSE_DRIVE\u001b[0m\u001b[0;34m:\u001b[0m\u001b[0;34m\u001b[0m\u001b[0;34m\u001b[0m\u001b[0m\n\u001b[1;32m     12\u001b[0m     \u001b[0;32mfrom\u001b[0m \u001b[0mgoogle\u001b[0m\u001b[0;34m.\u001b[0m\u001b[0mcolab\u001b[0m \u001b[0;32mimport\u001b[0m \u001b[0mdrive\u001b[0m\u001b[0;34m\u001b[0m\u001b[0;34m\u001b[0m\u001b[0m\n\u001b[0;32m---> 13\u001b[0;31m     \u001b[0mdrive\u001b[0m\u001b[0;34m.\u001b[0m\u001b[0mmount\u001b[0m\u001b[0;34m(\u001b[0m\u001b[0;34m'/content/drive'\u001b[0m\u001b[0;34m)\u001b[0m\u001b[0;34m\u001b[0m\u001b[0;34m\u001b[0m\u001b[0m\n\u001b[0m\u001b[1;32m     14\u001b[0m     \u001b[0mbase_path\u001b[0m \u001b[0;34m=\u001b[0m \u001b[0;34m\"/content/drive/MyDrive\"\u001b[0m\u001b[0;34m\u001b[0m\u001b[0;34m\u001b[0m\u001b[0m\n\u001b[1;32m     15\u001b[0m     \u001b[0mFOLDER_PATH\u001b[0m \u001b[0;34m=\u001b[0m \u001b[0mos\u001b[0m\u001b[0;34m.\u001b[0m\u001b[0mpath\u001b[0m\u001b[0;34m.\u001b[0m\u001b[0mjoin\u001b[0m\u001b[0;34m(\u001b[0m\u001b[0mbase_path\u001b[0m\u001b[0;34m,\u001b[0m \u001b[0mDRIVE_SUBFOLDER\u001b[0m\u001b[0;34m)\u001b[0m\u001b[0;34m\u001b[0m\u001b[0;34m\u001b[0m\u001b[0m\n",
            "\u001b[0;32m/usr/local/lib/python3.11/dist-packages/google/colab/drive.py\u001b[0m in \u001b[0;36mmount\u001b[0;34m(mountpoint, force_remount, timeout_ms, readonly)\u001b[0m\n\u001b[1;32m     98\u001b[0m \u001b[0;32mdef\u001b[0m \u001b[0mmount\u001b[0m\u001b[0;34m(\u001b[0m\u001b[0mmountpoint\u001b[0m\u001b[0;34m,\u001b[0m \u001b[0mforce_remount\u001b[0m\u001b[0;34m=\u001b[0m\u001b[0;32mFalse\u001b[0m\u001b[0;34m,\u001b[0m \u001b[0mtimeout_ms\u001b[0m\u001b[0;34m=\u001b[0m\u001b[0;36m120000\u001b[0m\u001b[0;34m,\u001b[0m \u001b[0mreadonly\u001b[0m\u001b[0;34m=\u001b[0m\u001b[0;32mFalse\u001b[0m\u001b[0;34m)\u001b[0m\u001b[0;34m:\u001b[0m\u001b[0;34m\u001b[0m\u001b[0;34m\u001b[0m\u001b[0m\n\u001b[1;32m     99\u001b[0m   \u001b[0;34m\"\"\"Mount your Google Drive at the specified mountpoint path.\"\"\"\u001b[0m\u001b[0;34m\u001b[0m\u001b[0;34m\u001b[0m\u001b[0m\n\u001b[0;32m--> 100\u001b[0;31m   return _mount(\n\u001b[0m\u001b[1;32m    101\u001b[0m       \u001b[0mmountpoint\u001b[0m\u001b[0;34m,\u001b[0m\u001b[0;34m\u001b[0m\u001b[0;34m\u001b[0m\u001b[0m\n\u001b[1;32m    102\u001b[0m       \u001b[0mforce_remount\u001b[0m\u001b[0;34m=\u001b[0m\u001b[0mforce_remount\u001b[0m\u001b[0;34m,\u001b[0m\u001b[0;34m\u001b[0m\u001b[0;34m\u001b[0m\u001b[0m\n",
            "\u001b[0;32m/usr/local/lib/python3.11/dist-packages/google/colab/drive.py\u001b[0m in \u001b[0;36m_mount\u001b[0;34m(mountpoint, force_remount, timeout_ms, ephemeral, readonly)\u001b[0m\n\u001b[1;32m    277\u001b[0m             \u001b[0;34m'https://research.google.com/colaboratory/faq.html#drive-timeout'\u001b[0m\u001b[0;34m\u001b[0m\u001b[0;34m\u001b[0m\u001b[0m\n\u001b[1;32m    278\u001b[0m         )\n\u001b[0;32m--> 279\u001b[0;31m       \u001b[0;32mraise\u001b[0m \u001b[0mValueError\u001b[0m\u001b[0;34m(\u001b[0m\u001b[0;34m'mount failed'\u001b[0m \u001b[0;34m+\u001b[0m \u001b[0mextra_reason\u001b[0m\u001b[0;34m)\u001b[0m\u001b[0;34m\u001b[0m\u001b[0;34m\u001b[0m\u001b[0m\n\u001b[0m\u001b[1;32m    280\u001b[0m     \u001b[0;32melif\u001b[0m \u001b[0mcase\u001b[0m \u001b[0;34m==\u001b[0m \u001b[0;36m4\u001b[0m\u001b[0;34m:\u001b[0m\u001b[0;34m\u001b[0m\u001b[0;34m\u001b[0m\u001b[0m\n\u001b[1;32m    281\u001b[0m       \u001b[0;31m# Terminate the DriveFS binary before killing bash.\u001b[0m\u001b[0;34m\u001b[0m\u001b[0;34m\u001b[0m\u001b[0m\n",
            "\u001b[0;31mValueError\u001b[0m: mount failed"
          ]
        }
      ]
    },
    {
      "cell_type": "code",
      "metadata": {
        "id": "3enPCGBF8FlX"
      },
      "source": [
        "# Standard Library Imports\n",
        "import os\n",
        "import copy\n",
        "import random\n",
        "import warnings\n",
        "from collections import defaultdict\n",
        "from typing import Optional\n",
        "\n",
        "# ML\n",
        "import numpy as np\n",
        "import scipy as sp\n",
        "import pandas as pd\n",
        "\n",
        "# Visual\n",
        "import matplotlib\n",
        "import seaborn as sns\n",
        "from tqdm import tqdm\n",
        "from tabulate import tabulate\n",
        "import matplotlib.pyplot as plt\n",
        "from IPython.display import display\n",
        "\n",
        "# DL\n",
        "import torch as th\n",
        "import torch.nn as nn\n",
        "from torch.optim import Adam\n",
        "from torch.utils.data import DataLoader, Dataset\n",
        "\n",
        "# Metrics\n",
        "from sklearn import metrics\n",
        "from sklearn.metrics import accuracy_score , roc_auc_score, classification_report, confusion_matrix, precision_recall_fscore_support\n"
      ],
      "execution_count": null,
      "outputs": []
    },
    {
      "cell_type": "code",
      "source": [
        "SEED = 42\n",
        "# Set the random seed for Python\n",
        "random.seed(SEED)\n",
        "\n",
        "# Set the random seed for numpy\n",
        "np.random.seed(SEED)\n",
        "\n",
        "# Set the random seed for pytorch\n",
        "th.manual_seed(SEED)\n",
        "\n",
        "# If using CUDA (for GPU operations)\n",
        "th.cuda.manual_seed(SEED)\n",
        "\n",
        "# Set up the device\n",
        "# TO DO ----------------------------------------------------------------------\n",
        "DEVICE = \"cuda\"\n",
        "# TO DO ----------------------------------------------------------------------\n",
        "assert DEVICE == \"cuda\"\n",
        "\n",
        "DataType = list[tuple[list[str],list[str]]]"
      ],
      "metadata": {
        "id": "ZUM4WJ9PwF0x"
      },
      "execution_count": null,
      "outputs": []
    },
    {
      "cell_type": "code",
      "source": [
        "# Any additional needed libraries\n",
        "# !pip install --q\n",
        "\n",
        "import datetime\n",
        "import os\n",
        "\n",
        "################################ Mount Options #################################\n",
        "USE_DRIVE = True\n",
        "DRIVE_SUBFOLDER = \"MLDS/NLP - 250253/ex2\" # change for your drive\n",
        "\n",
        "if USE_DRIVE:\n",
        "    from google.colab import drive\n",
        "    drive.mount('/content/drive')\n",
        "    base_path = \"/content/drive/MyDrive\"\n",
        "    FOLDER_PATH = os.path.join(base_path, DRIVE_SUBFOLDER)\n",
        "    os.makedirs(FOLDER_PATH, exist_ok=True)\n",
        "else:\n",
        "    FOLDER_PATH = \"/content\"\n",
        "\n",
        "print(f\"✅ All files will be saved to: {FOLDER_PATH}\")"
      ],
      "metadata": {
        "id": "_G65XydN_yo1"
      },
      "execution_count": null,
      "outputs": []
    },
    {
      "cell_type": "markdown",
      "source": [
        "# Part 1 - Dataset Preparation"
      ],
      "metadata": {
        "id": "f-1shPaJ0z1B"
      }
    },
    {
      "cell_type": "markdown",
      "metadata": {
        "id": "5ul2Y3vuPoV8"
      },
      "source": [
        "## Step 1: Read Data\n",
        "Write a function for reading the data from a single file (of the ones that are provided above).   \n",
        "- The function recieves a filepath\n",
        "- The funtion encodes every sentence individually using a pair of lists, one list contains the words and one list contains the tags.\n",
        "- Each list pair will be added to a general list (data), which will be returned back from the function.\n",
        "\n",
        "Example output:\n",
        "```\n",
        "[\n",
        "  (['At','Trent','Bridge',':'],['O','B-LOC','I-LOC ','O']),\n",
        "  ([...],[...]),\n",
        "  ...\n",
        "]\n",
        "```"
      ]
    },
    {
      "cell_type": "code",
      "metadata": {
        "id": "prgzgtt8Jw4Y"
      },
      "source": [
        "def read_data(filepath:str) -> DataType:\n",
        "  \"\"\"\n",
        "  Read data from a single file.\n",
        "  The function recieves a filepath\n",
        "  The funtion encodes every sentence using a pair of lists, one list contains the words and one list contains the tags.\n",
        "  :param filepath: path to the file\n",
        "  :return: data as a list of tuples\n",
        "  \"\"\"\n",
        "  data = []\n",
        "  # TO DO ----------------------------------------------------------------------\n",
        "  sentence_words = []\n",
        "  sentence_tags = []\n",
        "\n",
        "  with open(filepath, 'r') as f:\n",
        "    for line in f: # read line by line from the file\n",
        "      line = line.strip()\n",
        "\n",
        "      if line:  # check the line isn't empty\n",
        "        parts = line.split() # split the line to word and a tag\n",
        "        if len(parts) == 2: # verify format\n",
        "          word, tag = parts\n",
        "          sentence_words.append(word)\n",
        "          sentence_tags.append(tag)\n",
        "        else:\n",
        "          print(f\"Problem with format at line: {line} - line was skipped\")\n",
        "\n",
        "      else: # if empty line it should be the end of a sentence\n",
        "        if len(sentence_words) == len(sentence_tags): # verify that we have the same amount of tags and words\n",
        "              data.append((sentence_words, sentence_tags)) # add new tagged sentence in the desired format\n",
        "        else:\n",
        "            print(f\"\"\"Error: Mismatched word and tag counts in sentence.\n",
        "              Skipping sentence: {sentence_words}\"\"\")\n",
        "        sentence_words = []\n",
        "        sentence_tags = []\n",
        "\n",
        "  # handle the last sentence if it doesn't end with an empty line\n",
        "  if sentence_words:\n",
        "      if len(sentence_words) == len(sentence_tags):\n",
        "          data.append((sentence_words, sentence_tags))\n",
        "      else:\n",
        "          print(f\"\"\"Error: Mismatched word and tag counts in last sentence.\n",
        "            Skipping sentence: {sentence_words}\"\"\")\n",
        "\n",
        "  # TO DO ----------------------------------------------------------------------\n",
        "  return data"
      ],
      "execution_count": null,
      "outputs": []
    },
    {
      "cell_type": "code",
      "source": [
        "train = read_data(\"data/train.txt\")\n",
        "dev = read_data(\"data/dev.txt\")\n",
        "test = read_data(\"data/test.txt\")"
      ],
      "metadata": {
        "id": "yURR0GmX2i8M"
      },
      "execution_count": null,
      "outputs": []
    },
    {
      "cell_type": "code",
      "source": [
        "################################## Our Tests ###################################\n",
        "\n",
        "# Verify the structure of the output from read_data\n",
        "train_data = read_data('data/train.txt')\n",
        "\n",
        "# Check if the output is a list of tuples\n",
        "is_output_list_of_tuples = isinstance(train_data, list) and all(isinstance(item, tuple) for item in train_data)\n",
        "\n",
        "# Check if each tuple contains two lists\n",
        "each_tuple_has_two_lists = all(len(item) == 2 and isinstance(item[0], list) and isinstance(item[1], list) for item in train_data)\n",
        "\n",
        "# Check if all items in the first list of each tuple are strings\n",
        "all_words_are_strings = all(all(isinstance(word, str) for word in sentence[0]) for sentence in train_data)\n",
        "\n",
        "# Check if all items in the second list of each tuple are strings\n",
        "all_tags_are_strings = all(all(isinstance(tag, str) for tag in sentence[1]) for sentence in train_data)\n",
        "\n",
        "# Check if the lengths of the word list and tag list are the same for each sentence\n",
        "word_tag_list_lengths_match = all(len(sentence[0]) == len(sentence[1]) for sentence in train_data)\n",
        "\n",
        "# check\n",
        "set([tag for pair in train for tag in pair[1]])\n",
        "\n",
        "# Print verification results with informative names and test manners\n",
        "print(f\"Test: Output is a list of tuples: {is_output_list_of_tuples}\")\n",
        "print(f\"Test: Each tuple contains two lists: {each_tuple_has_two_lists}\")\n",
        "print(f\"Test: All words in sentence lists are strings: {all_words_are_strings}\")\n",
        "print(f\"Test: All tags in tag lists are strings: {all_tags_are_strings}\")\n",
        "print(f\"Test: Word and tag lists have matching lengths for each sentence: {word_tag_list_lengths_match}\")"
      ],
      "metadata": {
        "id": "Jl2iwPKVBRMD"
      },
      "execution_count": null,
      "outputs": []
    },
    {
      "cell_type": "markdown",
      "metadata": {
        "id": "IuGwk6OwRWGS"
      },
      "source": [
        "## Step 2: Create Vocab\n",
        "\n",
        "The `Vocab` class will serve as a dictionary that maps words and tags into IDs. Ensure that you include special tokens to handle out-of-vocabulary words and padding.\n",
        "\n",
        "### Your Task\n",
        "1. **Define Special Tokens**: Define special tokens such as `PAD_TOKEN` and `UNK_TOKEN` and assign them unique IDs.\n",
        "2. **Initialize Dictionaries**: Populate the word and tag dictionaries based on the training set.\n",
        "\n",
        "*Note: You may change the `Vocab` class as needed.*"
      ]
    },
    {
      "cell_type": "code",
      "metadata": {
        "id": "6rKIB5o_vQO8"
      },
      "source": [
        "# Initinize ids for special tokens\n",
        "PAD_TOKEN = 0\n",
        "UNK_TOKEN = 1\n",
        "\n",
        "class Vocab:\n",
        "  def __init__(self, train: DataType):\n",
        "    \"\"\"\n",
        "    Initialize a Vocab instance.\n",
        "    :param train: train data\n",
        "    \"\"\"\n",
        "    self.word2id = {\"__unk__\": UNK_TOKEN, \"__pad__\": PAD_TOKEN}\n",
        "    self.id2word = {UNK_TOKEN: \"__unk__\", PAD_TOKEN: \"__pad__\"}\n",
        "    self.n_words = 2\n",
        "\n",
        "    self.tag2id = {}\n",
        "    self.id2tag = {}\n",
        "    self.n_tags = 0\n",
        "\n",
        "    # Initialize dictionaries based on the training set\n",
        "    # TO DO ----------------------------------------------------------------------\n",
        "        # init the dictionary for words\n",
        "    all_words = [word for sentence_pair in train for word in sentence_pair[0]]\n",
        "    unique_words = sorted(list(set(all_words)))\n",
        "    for i, word in enumerate(unique_words):\n",
        "      if word not in self.word2id: # Avoid re-adding special tokens if they appear in data\n",
        "          self.word2id[word] = self.n_words\n",
        "          self.id2word[self.n_words] = word\n",
        "          self.n_words += 1\n",
        "\n",
        "    # init the dictionary for tags\n",
        "    all_tags = [tag for sentence_pair in train for tag in sentence_pair[1]]\n",
        "    unique_tags = sorted(list(set(all_tags)))\n",
        "    for i, tag in enumerate(unique_tags):\n",
        "        self.tag2id[tag] = self.n_tags\n",
        "        self.id2tag[self.n_tags] = tag\n",
        "        self.n_tags += 1\n",
        "\n",
        "    # verifies that we have all the iobes tags in the dataset\n",
        "    EXPECTED_TAGS = {'B-LOC', 'I-LOC', 'B-ORG', 'I-ORG', 'B-PER', 'I-PER', 'O'}\n",
        "\n",
        "    # TO DO ----------------------------------------------------------------------\\\n",
        "\n",
        "    missing_tags = EXPECTED_TAGS - set(self.tag2id.keys())\n",
        "    if missing_tags:\n",
        "      print(f\"Missing expected tags in vocabulary: {missing_tags}\")\n",
        "\n",
        "    # verifies that we have only IOB tags\n",
        "    actual_tags = set(self.tag2id.keys())\n",
        "    unexpected_tags = actual_tags - EXPECTED_TAGS\n",
        "    if unexpected_tags:\n",
        "        print(f\"⚠️ Non-standard tags found in data: {unexpected_tags}\")\n",
        "\n",
        "  def __len__(self):\n",
        "    return self.n_words\n",
        "\n",
        "  def index_tags(self, tags: list[str]) -> list[int]:\n",
        "    \"\"\"\n",
        "    Convert tags to Ids.\n",
        "    :param tags: list of tags\n",
        "    :return: list of Ids\n",
        "    \"\"\"\n",
        "    tag_indexes = [self.tag2id[t] for t in tags]\n",
        "    return tag_indexes\n",
        "\n",
        "  def index_words(self, words: list[str]) -> list[int]:\n",
        "    \"\"\"\n",
        "    Convert words to Ids.\n",
        "    :param words: list of words\n",
        "    :return: list of Ids\n",
        "    \"\"\"\n",
        "    word_indexes = [self.word2id[w] if w in self.word2id else self.word2id[\"__unk__\"] for w in words]\n",
        "    return word_indexes"
      ],
      "execution_count": 9,
      "outputs": []
    },
    {
      "cell_type": "code",
      "source": [
        "vocab = Vocab(train)"
      ],
      "metadata": {
        "id": "0H2D2zSR4GQ9"
      },
      "execution_count": 10,
      "outputs": []
    },
    {
      "cell_type": "code",
      "source": [
        "################################## Vocab Tests (IOB) ###################################\n",
        "\n",
        "# Sample training data (IOB only)\n",
        "train_data = [\n",
        "    ([\"Hello\", \"world\"], [\"O\", \"O\"]),\n",
        "    ([\"New\", \"York\", \"City\"], [\"B-LOC\", \"I-LOC\", \"I-LOC\"]),\n",
        "    ([\"Barack\", \"Obama\"], [\"B-PER\", \"I-PER\"])  # Replaces \"B-LANG\" with valid IOB entity\n",
        "]\n",
        "\n",
        "# Initialize vocabulary\n",
        "vocab = Vocab(train_data)\n",
        "\n",
        "# Structural tests\n",
        "is_vocab_instance = isinstance(vocab, Vocab)\n",
        "word_dict_is_dict = isinstance(vocab.word2id, dict)\n",
        "tag_dict_is_dict = isinstance(vocab.tag2id, dict)\n",
        "\n",
        "# Special token checks\n",
        "has_unk_pad = \"__unk__\" in vocab.word2id and \"__pad__\" in vocab.word2id\n",
        "unk_correct_id = vocab.word2id[\"__unk__\"] == UNK_TOKEN\n",
        "pad_correct_id = vocab.word2id[\"__pad__\"] == PAD_TOKEN\n",
        "\n",
        "# Word coverage tests\n",
        "all_train_words = {word for sentence in train_data for word in sentence[0]}\n",
        "all_words_in_vocab = all(word in vocab.word2id for word in all_train_words)\n",
        "unique_word_count = len(all_train_words) + 2  # +2 for special tokens\n",
        "word_count_matches = vocab.n_words == unique_word_count\n",
        "\n",
        "# Tag coverage tests\n",
        "all_train_tags = {tag for sentence in train_data for tag in sentence[1]}\n",
        "all_tags_in_vocab = all(tag in vocab.tag2id for tag in all_train_tags)\n",
        "unique_tag_count = len(all_train_tags)\n",
        "tag_count_matches = vocab.n_tags == unique_tag_count\n",
        "\n",
        "# Indexing tests\n",
        "test_words = [\"Hello\", \"unknown_word\", \"Obama\"]\n",
        "expected_word_ids = [\n",
        "    vocab.word2id[\"Hello\"],\n",
        "    UNK_TOKEN,\n",
        "    vocab.word2id[\"Obama\"]\n",
        "]\n",
        "word_indexing_correct = vocab.index_words(test_words) == expected_word_ids\n",
        "\n",
        "test_tags = [\"O\", \"B-LOC\", \"I-LOC\"]\n",
        "expected_tag_ids = [\n",
        "    vocab.tag2id[\"O\"],\n",
        "    vocab.tag2id[\"B-LOC\"],\n",
        "    vocab.tag2id[\"I-LOC\"]\n",
        "]\n",
        "tag_indexing_correct = vocab.index_tags(test_tags) == expected_tag_ids\n",
        "\n",
        "# Print results\n",
        "print(\"Structural Tests:\")\n",
        "print(f\"Test: Vocab initialized correctly: {is_vocab_instance}\")\n",
        "print(f\"Test: word2id is dict: {word_dict_is_dict}\")\n",
        "print(f\"Test: tag2id is dict: {tag_dict_is_dict}\")\n",
        "\n",
        "print(\"\\nSpecial Token Tests:\")\n",
        "print(f\"Test: Contains UNK/PAD: {has_unk_pad}\")\n",
        "print(f\"Test: UNK has ID 1: {unk_correct_id}\")\n",
        "print(f\"Test: PAD has ID 0: {pad_correct_id}\")\n",
        "\n",
        "print(\"\\nWord Coverage Tests:\")\n",
        "print(f\"Test: All training words in vocab: {all_words_in_vocab}\")\n",
        "print(f\"Test: Word count matches (expected {unique_word_count}): {word_count_matches}\")\n",
        "\n",
        "print(\"\\nTag Coverage Tests:\")\n",
        "print(f\"Test: All training tags in vocab: {all_tags_in_vocab}\")\n",
        "print(f\"Test: Tag count matches (expected {unique_tag_count}): {tag_count_matches}\")\n",
        "\n",
        "print(\"\\nIndexing Tests:\")\n",
        "print(f\"Test: Word indexing correct: {word_indexing_correct}\")\n",
        "print(f\"Test: Tag indexing correct: {tag_indexing_correct}\")\n",
        "\n",
        "# Verify tag ID consistency (order may vary depending on implementation)\n",
        "print(\"\\nTag ID Consistency Check:\")\n",
        "for tag in sorted(vocab.tag2id.keys()):\n",
        "    print(f\"{tag} -> {vocab.tag2id[tag]}\")\n"
      ],
      "metadata": {
        "colab": {
          "base_uri": "https://localhost:8080/"
        },
        "id": "uHPuAWPTbkjH",
        "outputId": "870ce1b5-ff9d-4e43-f515-c7b8424da416"
      },
      "execution_count": 11,
      "outputs": [
        {
          "output_type": "stream",
          "name": "stdout",
          "text": [
            "Missing expected tags in vocabulary: {'B-ORG', 'I-ORG'}\n",
            "Structural Tests:\n",
            "Test: Vocab initialized correctly: True\n",
            "Test: word2id is dict: True\n",
            "Test: tag2id is dict: True\n",
            "\n",
            "Special Token Tests:\n",
            "Test: Contains UNK/PAD: True\n",
            "Test: UNK has ID 1: True\n",
            "Test: PAD has ID 0: True\n",
            "\n",
            "Word Coverage Tests:\n",
            "Test: All training words in vocab: True\n",
            "Test: Word count matches (expected 9): True\n",
            "\n",
            "Tag Coverage Tests:\n",
            "Test: All training tags in vocab: True\n",
            "Test: Tag count matches (expected 5): True\n",
            "\n",
            "Indexing Tests:\n",
            "Test: Word indexing correct: True\n",
            "Test: Tag indexing correct: True\n",
            "\n",
            "Tag ID Consistency Check:\n",
            "B-LOC -> 0\n",
            "B-PER -> 1\n",
            "I-LOC -> 2\n",
            "I-PER -> 3\n",
            "O -> 4\n"
          ]
        }
      ]
    },
    {
      "cell_type": "markdown",
      "metadata": {
        "id": "iDKYryfKfNdh"
      },
      "source": [
        "## Step 3: Prepare Data\n",
        "Write a function `prepare_data` that takes one of the [train, dev, test] and the `Vocab` instance, for converting each pair of (words, tags) to a pair of indexes. Additionally, the function should pad the sequences to the maximum length sequence **of the given split**.\n",
        "\n",
        "Note: Vocabulary is based only on the train set.\n",
        "\n",
        "### Your Task\n",
        "1. Convert each pair of (words, tags) to a pair of indexes using the Vocab instance.\n",
        "2. Pad the sequences to the maximum length of the sequences in the given split."
      ]
    },
    {
      "cell_type": "code",
      "source": [
        "train[4:43]"
      ],
      "metadata": {
        "colab": {
          "base_uri": "https://localhost:8080/",
          "height": 144
        },
        "id": "6mQ2DZLkt-wI",
        "outputId": "205825be-6965-4db3-bbba-4422f43e8f4e"
      },
      "execution_count": 2,
      "outputs": [
        {
          "output_type": "error",
          "ename": "NameError",
          "evalue": "name 'train' is not defined",
          "traceback": [
            "\u001b[0;31m---------------------------------------------------------------------------\u001b[0m",
            "\u001b[0;31mNameError\u001b[0m                                 Traceback (most recent call last)",
            "\u001b[0;32m<ipython-input-2-227593365>\u001b[0m in \u001b[0;36m<cell line: 0>\u001b[0;34m()\u001b[0m\n\u001b[0;32m----> 1\u001b[0;31m \u001b[0mtrain\u001b[0m\u001b[0;34m[\u001b[0m\u001b[0;36m4\u001b[0m\u001b[0;34m:\u001b[0m\u001b[0;36m43\u001b[0m\u001b[0;34m]\u001b[0m\u001b[0;34m\u001b[0m\u001b[0;34m\u001b[0m\u001b[0m\n\u001b[0m",
            "\u001b[0;31mNameError\u001b[0m: name 'train' is not defined"
          ]
        }
      ]
    },
    {
      "cell_type": "code",
      "metadata": {
        "id": "noIY3zWKvhBd"
      },
      "source": [
        "def prepare_data(data: DataType, vocab: Vocab):\n",
        "  data_sequences = []\n",
        "  # TO DO ----------------------------------------------------------------------\n",
        "\n",
        "  if not data:\n",
        "        return []\n",
        "\n",
        "  max_length = max(len(sentence[0]) for sentence in data)\n",
        "\n",
        "  for words, tags in data:\n",
        "      # Cconvert words to IDs\n",
        "      word_ids = vocab.index_words(words)\n",
        "\n",
        "      # convert tags to IDs\n",
        "      tag_ids = vocab.index_tags(tags)\n",
        "\n",
        "      # check how many pads are required\n",
        "      required_pads = max_length - len(word_ids)\n",
        "\n",
        "      # do the padding for words ids\n",
        "      padded_word_ids = word_ids + [PAD_TOKEN] * required_pads\n",
        "\n",
        "      # do the padding for tags\n",
        "      padded_tag_ids = tag_ids + [PAD_TOKEN] * required_pads\n",
        "\n",
        "      # add the padded sequences to data_sequences\n",
        "      data_sequences.append((padded_word_ids, padded_tag_ids))\n",
        "\n",
        "  # TO DO ----------------------------------------------------------------------\n",
        "  return data_sequences"
      ],
      "execution_count": 12,
      "outputs": []
    },
    {
      "cell_type": "code",
      "source": [
        "train_sequences = prepare_data(train, vocab)\n",
        "dev_sequences = prepare_data(dev, vocab)\n",
        "test_sequences = prepare_data(test, vocab)"
      ],
      "metadata": {
        "id": "Y4mryWuq6rox",
        "colab": {
          "base_uri": "https://localhost:8080/",
          "height": 328
        },
        "outputId": "9485165f-951b-40a5-c00f-cf07068fa482"
      },
      "execution_count": 13,
      "outputs": [
        {
          "output_type": "error",
          "ename": "KeyError",
          "evalue": "'B-ORG'",
          "traceback": [
            "\u001b[0;31m---------------------------------------------------------------------------\u001b[0m",
            "\u001b[0;31mKeyError\u001b[0m                                  Traceback (most recent call last)",
            "\u001b[0;32m<ipython-input-13-112840400>\u001b[0m in \u001b[0;36m<cell line: 0>\u001b[0;34m()\u001b[0m\n\u001b[0;32m----> 1\u001b[0;31m \u001b[0mtrain_sequences\u001b[0m \u001b[0;34m=\u001b[0m \u001b[0mprepare_data\u001b[0m\u001b[0;34m(\u001b[0m\u001b[0mtrain\u001b[0m\u001b[0;34m,\u001b[0m \u001b[0mvocab\u001b[0m\u001b[0;34m)\u001b[0m\u001b[0;34m\u001b[0m\u001b[0;34m\u001b[0m\u001b[0m\n\u001b[0m\u001b[1;32m      2\u001b[0m \u001b[0mdev_sequences\u001b[0m \u001b[0;34m=\u001b[0m \u001b[0mprepare_data\u001b[0m\u001b[0;34m(\u001b[0m\u001b[0mdev\u001b[0m\u001b[0;34m,\u001b[0m \u001b[0mvocab\u001b[0m\u001b[0;34m)\u001b[0m\u001b[0;34m\u001b[0m\u001b[0;34m\u001b[0m\u001b[0m\n\u001b[1;32m      3\u001b[0m \u001b[0mtest_sequences\u001b[0m \u001b[0;34m=\u001b[0m \u001b[0mprepare_data\u001b[0m\u001b[0;34m(\u001b[0m\u001b[0mtest\u001b[0m\u001b[0;34m,\u001b[0m \u001b[0mvocab\u001b[0m\u001b[0;34m)\u001b[0m\u001b[0;34m\u001b[0m\u001b[0;34m\u001b[0m\u001b[0m\n",
            "\u001b[0;32m<ipython-input-12-2296680978>\u001b[0m in \u001b[0;36mprepare_data\u001b[0;34m(data, vocab)\u001b[0m\n\u001b[1;32m     13\u001b[0m \u001b[0;34m\u001b[0m\u001b[0m\n\u001b[1;32m     14\u001b[0m       \u001b[0;31m# convert tags to IDs\u001b[0m\u001b[0;34m\u001b[0m\u001b[0;34m\u001b[0m\u001b[0m\n\u001b[0;32m---> 15\u001b[0;31m       \u001b[0mtag_ids\u001b[0m \u001b[0;34m=\u001b[0m \u001b[0mvocab\u001b[0m\u001b[0;34m.\u001b[0m\u001b[0mindex_tags\u001b[0m\u001b[0;34m(\u001b[0m\u001b[0mtags\u001b[0m\u001b[0;34m)\u001b[0m\u001b[0;34m\u001b[0m\u001b[0;34m\u001b[0m\u001b[0m\n\u001b[0m\u001b[1;32m     16\u001b[0m \u001b[0;34m\u001b[0m\u001b[0m\n\u001b[1;32m     17\u001b[0m       \u001b[0;31m# check how many pads are required\u001b[0m\u001b[0;34m\u001b[0m\u001b[0;34m\u001b[0m\u001b[0m\n",
            "\u001b[0;32m<ipython-input-9-507371943>\u001b[0m in \u001b[0;36mindex_tags\u001b[0;34m(self, tags)\u001b[0m\n\u001b[1;32m     60\u001b[0m     \u001b[0;34m:\u001b[0m\u001b[0;32mreturn\u001b[0m\u001b[0;34m:\u001b[0m \u001b[0mlist\u001b[0m \u001b[0mof\u001b[0m \u001b[0mIds\u001b[0m\u001b[0;34m\u001b[0m\u001b[0;34m\u001b[0m\u001b[0m\n\u001b[1;32m     61\u001b[0m     \"\"\"\n\u001b[0;32m---> 62\u001b[0;31m     \u001b[0mtag_indexes\u001b[0m \u001b[0;34m=\u001b[0m \u001b[0;34m[\u001b[0m\u001b[0mself\u001b[0m\u001b[0;34m.\u001b[0m\u001b[0mtag2id\u001b[0m\u001b[0;34m[\u001b[0m\u001b[0mt\u001b[0m\u001b[0;34m]\u001b[0m \u001b[0;32mfor\u001b[0m \u001b[0mt\u001b[0m \u001b[0;32min\u001b[0m \u001b[0mtags\u001b[0m\u001b[0;34m]\u001b[0m\u001b[0;34m\u001b[0m\u001b[0;34m\u001b[0m\u001b[0m\n\u001b[0m\u001b[1;32m     63\u001b[0m     \u001b[0;32mreturn\u001b[0m \u001b[0mtag_indexes\u001b[0m\u001b[0;34m\u001b[0m\u001b[0;34m\u001b[0m\u001b[0m\n\u001b[1;32m     64\u001b[0m \u001b[0;34m\u001b[0m\u001b[0m\n",
            "\u001b[0;32m<ipython-input-9-507371943>\u001b[0m in \u001b[0;36m<listcomp>\u001b[0;34m(.0)\u001b[0m\n\u001b[1;32m     60\u001b[0m     \u001b[0;34m:\u001b[0m\u001b[0;32mreturn\u001b[0m\u001b[0;34m:\u001b[0m \u001b[0mlist\u001b[0m \u001b[0mof\u001b[0m \u001b[0mIds\u001b[0m\u001b[0;34m\u001b[0m\u001b[0;34m\u001b[0m\u001b[0m\n\u001b[1;32m     61\u001b[0m     \"\"\"\n\u001b[0;32m---> 62\u001b[0;31m     \u001b[0mtag_indexes\u001b[0m \u001b[0;34m=\u001b[0m \u001b[0;34m[\u001b[0m\u001b[0mself\u001b[0m\u001b[0;34m.\u001b[0m\u001b[0mtag2id\u001b[0m\u001b[0;34m[\u001b[0m\u001b[0mt\u001b[0m\u001b[0;34m]\u001b[0m \u001b[0;32mfor\u001b[0m \u001b[0mt\u001b[0m \u001b[0;32min\u001b[0m \u001b[0mtags\u001b[0m\u001b[0;34m]\u001b[0m\u001b[0;34m\u001b[0m\u001b[0;34m\u001b[0m\u001b[0m\n\u001b[0m\u001b[1;32m     63\u001b[0m     \u001b[0;32mreturn\u001b[0m \u001b[0mtag_indexes\u001b[0m\u001b[0;34m\u001b[0m\u001b[0;34m\u001b[0m\u001b[0m\n\u001b[1;32m     64\u001b[0m \u001b[0;34m\u001b[0m\u001b[0m\n",
            "\u001b[0;31mKeyError\u001b[0m: 'B-ORG'"
          ]
        }
      ]
    },
    {
      "cell_type": "code",
      "source": [
        "############################# prepare_data Tests ###############################\n",
        "\n",
        "# ------------------------------------------------------------------\n",
        "#  Sample vocabulary (built only from \"train\" sentences, as required)\n",
        "# ------------------------------------------------------------------\n",
        "sample_vocab = Vocab([\n",
        "    ([\"Hello\", \"world\"], [\"O\", \"O\"]),\n",
        "    ([\"New\", \"York\"],     [\"B-LOC\", \"I-LOC\"]),\n",
        "    ([\"a\", \"b\", \"c\", \"d\", \"e\", \"f\", \"g\"], [\"O\", \"O\", \"B-X\", \"B-Y\", \"I-Y\", \"I-Y\", \"B-Z\"])\n",
        "])\n",
        "\n",
        "# --------------------------\n",
        "#  Test 1 – basic padding\n",
        "# --------------------------\n",
        "test1_data = [\n",
        "    ([\"Hello\", \"world\"],            [\"O\", \"O\"]),\n",
        "    ([\"New\", \"York\", \"City\"],       [\"B-LOC\", \"I-LOC\", \"I-LOC\"])   # “City” is unknown\n",
        "]\n",
        "test1_expected_len = 3\n",
        "test1_out   = prepare_data(test1_data, sample_vocab)\n",
        "test1_pass  = all(len(w)==test1_expected_len and len(t)==test1_expected_len\n",
        "                  for w,t in test1_out)\n",
        "\n",
        "# --------------------------\n",
        "#  Test 2 – unknown word\n",
        "# --------------------------\n",
        "#  Only one sentence → max_len = 1 → **no padding needed**\n",
        "test2_input  = ([\"Python3\"], [\"O\"])                 # “Python3” is unknown\n",
        "test2_out    = prepare_data([test2_input], sample_vocab)\n",
        "test2_pass   = test2_out[0][0] == [UNK_TOKEN]       # expect just UNK_TOKEN\n",
        "\n",
        "# --------------------------\n",
        "#  Test 3 – empty split\n",
        "# --------------------------\n",
        "test3_out   = prepare_data([], sample_vocab)\n",
        "test3_pass  = test3_out == []\n",
        "\n",
        "# ---------------------------------------------------------------\n",
        "#  Test 4 – padding values (create a split where padding is needed)\n",
        "# ---------------------------------------------------------------\n",
        "test4_data = [\n",
        "    ([\"Hello\"],           [\"O\"]),                   # will need padding\n",
        "    ([\"New\", \"York\"],     [\"B-LOC\", \"I-LOC\"])       # longest ⇒ max_len = 2\n",
        "]\n",
        "test4_out   = prepare_data(test4_data, sample_vocab)\n",
        "hello_id    = sample_vocab.word2id[\"Hello\"]\n",
        "o_tag_id    = sample_vocab.tag2id[\"O\"]\n",
        "\n",
        "test4_pass = (\n",
        "    test4_out[0][0] == [hello_id, PAD_TOKEN] and    # words padded\n",
        "    test4_out[0][1] == [o_tag_id,  PAD_TOKEN]       # tags padded\n",
        ")\n",
        "\n",
        "# ------------------------------------------------------------------\n",
        "#  Dataset-level consistency checks (train/dev/test toy splits)\n",
        "# ------------------------------------------------------------------\n",
        "train_data = [([\"a\", \"b\"], [\"O\", \"O\"]), ([\"c\"], [\"B-X\"])]\n",
        "dev_data   = [([\"d\", \"e\", \"f\"], [\"B-Y\", \"I-Y\", \"I-Y\"])]\n",
        "test_data  = [([\"g\"], [\"B-Z\"])]\n",
        "\n",
        "train_seq = prepare_data(train_data, sample_vocab)\n",
        "dev_seq   = prepare_data(dev_data,   sample_vocab)\n",
        "test_seq  = prepare_data(test_data,  sample_vocab)\n",
        "\n",
        "def split_ok(seqs, raw):\n",
        "    exp_len = max(len(s[0]) for s in raw)\n",
        "    same    = all(len(w)==exp_len and len(t)==exp_len for w,t in seqs)\n",
        "    w_ids   = all(0 <= idx < sample_vocab.n_words for w,_ in seqs for idx in w)\n",
        "    t_ids   = all(idx in sample_vocab.tag2id.values() or idx==PAD_TOKEN\n",
        "                  for _,t in seqs for idx in t)\n",
        "    return same and w_ids and t_ids\n",
        "\n",
        "dataset_pass = {\n",
        "    \"Train\": split_ok(train_seq, train_data),\n",
        "    \"Dev\"  : split_ok(dev_seq,   dev_data),\n",
        "    \"Test\" : split_ok(test_seq,  test_data),\n",
        "}\n",
        "\n",
        "# -------------------\n",
        "#  Print test report\n",
        "# -------------------\n",
        "print(\"=========== prepare_data Unit Tests ===========\")\n",
        "print(f\"Test 1 – basic padding ............... {test1_pass}\")\n",
        "print(f\"Test 2 – unknown word ................ {test2_pass}\")\n",
        "print(f\"Test 3 – empty split ................. {test3_pass}\")\n",
        "print(f\"Test 4 – padding values .............. {test4_pass}\")\n",
        "\n",
        "print(\"\\n=========== Dataset Consistency ===========\")\n",
        "for name, ok in dataset_pass.items():\n",
        "    print(f\"{name:5s} split ........................ {ok}\")\n",
        "\n",
        "# Optional: extra diagnostics when something fails\n",
        "if not test2_pass:\n",
        "    print(\"  ↳ got word IDs:\", test2_out[0][0])\n",
        "if not test4_pass:\n",
        "    print(\"  ↳ got:\", test4_out[0])\n"
      ],
      "metadata": {
        "id": "xnB4qdnko3_l"
      },
      "execution_count": null,
      "outputs": []
    },
    {
      "cell_type": "markdown",
      "source": [
        "### Your Task\n",
        "Print the number of OOV in dev and test sets:"
      ],
      "metadata": {
        "id": "aSR-qJnIQGUJ"
      }
    },
    {
      "cell_type": "code",
      "source": [
        "def count_oov(sequences) -> int:\n",
        "  \"\"\"\n",
        "  Count the number of OOV words.\n",
        "  :param sequences: list of sequences\n",
        "  :return: number of OOV words\n",
        "  \"\"\"\n",
        "  oov = -1\n",
        "  # TO DO ----------------------------------------------------------------------\n",
        "\n",
        "\n",
        "  # iterate over all pair of words-tags\n",
        "  for word_ids, tag_ids in sequences:\n",
        "    # iterate through the word IDs in the current sentence\n",
        "    for word_id in word_ids:\n",
        "      # count word if it is out of vocabulary and not a padding\n",
        "      if word_id == UNK_TOKEN and word_id != PAD_TOKEN:\n",
        "        oov_count += 1\n",
        "\n",
        "  # TO DO ----------------------------------------------------------------------\n",
        "  return oov"
      ],
      "metadata": {
        "id": "QaXaJe5wrGhl"
      },
      "execution_count": null,
      "outputs": []
    },
    {
      "cell_type": "markdown",
      "source": [
        "## Step 4: Dataloaders\n",
        "Create dataloaders for each split in the dataset. They should return the samples as Tensors.\n",
        "\n",
        "**Hint** - you can create a Dataset to support this part.\n",
        "\n",
        "For the training set, use shuffling, and for the dev and test, not."
      ],
      "metadata": {
        "id": "QxC7SyD0EaMF"
      }
    },
    {
      "cell_type": "code",
      "source": [
        "def prepare_data_loader(sequences, batch_size: int, train: bool = True):\n",
        "  \"\"\"\n",
        "  Create a dataloader from a list of sequences.\n",
        "  :param sequences: list of sequences\n",
        "  :param batch_size: batch size\n",
        "  :param train: whether to shuffle the dataloader or not\n",
        "  :return: dataloader\n",
        "  \"\"\"\n",
        "  dataloader = None\n",
        "  # TO DO ----------------------------------------------------------------------\n",
        "\n",
        "  # create a Dataset class\n",
        "  class NERDataset(Dataset):\n",
        "      def __init__(self, seqs):\n",
        "          self.seqs = seqs\n",
        "\n",
        "      def __len__(self):\n",
        "          return len(self.seqs)\n",
        "\n",
        "      def __getitem__(self, idx):\n",
        "          word_ids, tag_ids = self.seqs[idx]\n",
        "          return (\n",
        "              th.tensor(word_ids, dtype=th.long),\n",
        "              th.tensor(tag_ids, dtype=th.long)\n",
        "          )\n",
        "\n",
        "  # crate a dataloader based on the NERDataset instance\n",
        "  dataset = NERDataset(sequences)\n",
        "  dataloader = DataLoader(\n",
        "      dataset,\n",
        "      batch_size=batch_size,\n",
        "      shuffle=train,              # shuffle for train, keep order for dev/test\n",
        "      drop_last=False             # keep partial batches\n",
        "      # default collate_fn works because every sequence is already padded to\n",
        "      # the same max-length inside `prepare_data`\n",
        "  )\n",
        "\n",
        "\n",
        "  # TO DO ----------------------------------------------------------------------\n",
        "  return dataloader"
      ],
      "metadata": {
        "id": "vpMZ1C15t4Ra"
      },
      "execution_count": null,
      "outputs": []
    },
    {
      "cell_type": "code",
      "source": [
        "BATCH_SIZE = 16\n",
        "dl_train = prepare_data_loader(train_sequences, batch_size=BATCH_SIZE)\n",
        "dl_dev = prepare_data_loader(dev_sequences, batch_size=BATCH_SIZE, train=False)\n",
        "dl_test = prepare_data_loader(test_sequences, batch_size=BATCH_SIZE, train=False)"
      ],
      "metadata": {
        "id": "YWhK-O-suA93"
      },
      "execution_count": null,
      "outputs": []
    },
    {
      "cell_type": "markdown",
      "source": [
        "<br><br><br><br><br><br>"
      ],
      "metadata": {
        "id": "UeLdRU9R-pm3"
      }
    },
    {
      "cell_type": "markdown",
      "source": [
        "# Part 2 - NER Model Training"
      ],
      "metadata": {
        "id": "aUsgtdW869JH"
      }
    },
    {
      "cell_type": "markdown",
      "metadata": {
        "id": "UccfiRRtiEet"
      },
      "source": [
        "## Step 1: Implement Model\n",
        "\n",
        "Write NERNet, a PyTorch Module for labeling words with NER tags.\n",
        "\n",
        "> `input_size`: the size of the vocabulary  \n",
        "`embedding_size`: the size of the embeddings  \n",
        "`hidden_size`: the LSTM hidden size  \n",
        "`output_size`: the number tags we are predicting for  \n",
        "`n_layers`: the number of layers we want to use in LSTM  \n",
        "`directions`: could 1 or 2, indicating unidirectional or bidirectional LSTM, respectively  \n",
        "\n",
        "<br>  \n",
        "\n",
        "The input for your forward function should be a single sentence tensor.\n",
        "\n",
        "*Note: the embeddings in this section are learned embedding. That means that you don't need to use pretrained embedding like the one used in the last excersie. You will use them in part 5.*\n",
        "\n",
        "*Note: You may change the NERNet class.*"
      ]
    },
    {
      "cell_type": "code",
      "metadata": {
        "id": "Ke1LyUQNyQaM"
      },
      "source": [
        "class NERNet(nn.Module):\n",
        "  def __init__(self, input_size: int, embedding_size: int, hidden_size: int, output_size: int, n_layers: int, directions: int):\n",
        "    \"\"\"\n",
        "    Initialize a NERNet instance.\n",
        "    :param input_size: the size of the vocabulary\n",
        "    :param embedding_size: the size of the embeddings\n",
        "    :param hidden_size: the LSTM hidden size\n",
        "    :param output_size: the number tags we are predicting for\n",
        "    :param n_layers: the number of layers we want to use in LSTM\n",
        "    :param directions: could be 1 or 2, indicating unidirectional or bidirectional LSTM, respectively\n",
        "    \"\"\"\n",
        "    super(NERNet, self).__init__()\n",
        "    # TO DO ----------------------------------------------------------------------\n",
        "\n",
        "    # TO DO ----------------------------------------------------------------------\n",
        "\n",
        "  def forward(self, input_sentence):\n",
        "    # TO DO ----------------------------------------------------------------------\n",
        "    # input_sentence: (batch_size, seq_len)\n",
        "\n",
        "    # TO DO ----------------------------------------------------------------------\n",
        "    return output"
      ],
      "execution_count": null,
      "outputs": []
    },
    {
      "cell_type": "code",
      "source": [
        "model = NERNet(vocab.n_words, embedding_size=300, hidden_size=800, output_size=vocab.n_tags, n_layers=2, directions=1)\n",
        "model.to(DEVICE)"
      ],
      "metadata": {
        "id": "0nrbHIei19s5"
      },
      "execution_count": null,
      "outputs": []
    },
    {
      "cell_type": "markdown",
      "metadata": {
        "id": "dEGSQdeUkTP8"
      },
      "source": [
        "## Step 2: Training Loop\n",
        "\n",
        "Write a training loop, which takes a model (instance of NERNet), number of epochs to train on, and the train&dev datasets.  \n",
        "\n",
        "The function will return the `loss` and `accuracy` durring training.  \n",
        "(If you're using a different/additional metrics, return them too)\n",
        "\n",
        "The loss is always CrossEntropyLoss and the optimizer is always Adam.\n",
        "Make sure to use `tqdm` while iterating on `n_epochs`.\n"
      ]
    },
    {
      "cell_type": "code",
      "metadata": {
        "id": "avkHfjT3k0HM"
      },
      "source": [
        "def train_loop(model: NERNet, n_epochs: int, dataloader_train, dataloader_dev):\n",
        "  \"\"\"\n",
        "  Train a model.\n",
        "  :param model: model instance\n",
        "  :param n_epochs: number of epochs to train on\n",
        "  :param dataloader_train: train dataloader\n",
        "  :param dataloader_dev: dev dataloader\n",
        "  :return: loss and accuracy during training\n",
        "  \"\"\"\n",
        "  # Optimizer (ADAM is a fancy version of SGD)\n",
        "  optimizer = Adam(model.parameters(), lr=0.0001)\n",
        "\n",
        "  # Record\n",
        "  metrics = {'loss': {'train': [], 'dev': []}, 'accuracy': {'train': [], 'dev': []}}\n",
        "\n",
        "  # Move model to device\n",
        "  model.to(DEVICE)\n",
        "\n",
        "  ## TO DO ----------------------------------------------------------------------\n",
        "\n",
        "  # TO DO ----------------------------------------------------------------------\n",
        "  return metrics"
      ],
      "execution_count": null,
      "outputs": []
    },
    {
      "cell_type": "code",
      "source": [
        "metrics = train_loop(model, n_epochs=5, dataloader_train=dl_train, dataloader_dev=dl_dev)\n",
        "metrics"
      ],
      "metadata": {
        "id": "2KC1nYSi18PV"
      },
      "execution_count": null,
      "outputs": []
    },
    {
      "cell_type": "markdown",
      "source": [
        "<br><br><br><br><br><br>"
      ],
      "metadata": {
        "id": "T9C9su31_r7F"
      }
    },
    {
      "cell_type": "markdown",
      "source": [
        "# Part 3 - Evaluation"
      ],
      "metadata": {
        "id": "OqSMEZDK9OPY"
      }
    },
    {
      "cell_type": "markdown",
      "metadata": {
        "id": "baN1c_B7lTjb"
      },
      "source": [
        "\n",
        "## Step 1: Evaluation Function\n",
        "\n",
        "Write an evaluation loop for a trained model using the dev and test datasets. This function will print the `Recall`, `Precision`, and `F1` scores and plot a `Confusion Matrix`.\n",
        "\n",
        "Perform this evaluation twice:\n",
        "1. For all labels (7 labels in total).\n",
        "2. For all labels except \"O\" (6 labels in total)."
      ]
    },
    {
      "cell_type": "markdown",
      "source": [
        "## Metrics and Display\n",
        "\n",
        "### Metrics\n",
        "- **Recall**: True Positive Rate (TPR), also known as Recall.\n",
        "- **Precision**: The opposite of False Positive Rate (FPR), also known as Precision.\n",
        "- **F1 Score**: The harmonic mean of Precision and Recall.\n",
        "\n",
        "*Note*: For all these metrics, use **weighted** averaging:\n",
        "Calculate metrics for each label, and find their average weighted by support. Refer to the [sklearn documentation](https://scikit-learn.org/stable/modules/generated/sklearn.metrics.precision_recall_fscore_support.html#sklearn.metrics.precision_recall_fscore_support) for more details.\n",
        "\n",
        "### Display\n",
        "1. Print the `Recall`, `Precision`, and `F1` scores in a tabulated format.\n",
        "2. Display a `Confusion Matrix` plot:\n",
        "   - Rows represent the predicted labels.\n",
        "   - Columns represent the true labels.\n",
        "   - Include a title for the plot, axis names, and the names of the tags on the X-axis."
      ],
      "metadata": {
        "id": "K6MhtYgh7hDO"
      }
    },
    {
      "cell_type": "code",
      "metadata": {
        "id": "iyQAjGaqmd8U"
      },
      "source": [
        "def evaluate(model: NERNet, title: str, dataloader: DataLoader, vocab: Vocab):\n",
        "  \"\"\"\n",
        "  Evaluate a trained model on the given dataset.\n",
        "  :param model: model instance\n",
        "  :param title: title for the plot\n",
        "  :param dataloader: dataloader\n",
        "  :param vocab: Vocab instance\n",
        "  :return: Dictionary of evaluation results\n",
        "  \"\"\"\n",
        "  results = {}\n",
        "  # TO DO ----------------------------------------------------------------------\n",
        "\n",
        "  # TO DO ----------------------------------------------------------------------\n",
        "  return results"
      ],
      "execution_count": null,
      "outputs": []
    },
    {
      "cell_type": "markdown",
      "source": [
        "## Step 2: Train & Evaluate on Dev Set"
      ],
      "metadata": {
        "id": "trn5-50FyGoF"
      }
    },
    {
      "cell_type": "markdown",
      "metadata": {
        "id": "LQSXqWNOmqG4"
      },
      "source": [
        "Train and evaluate (on the dev set) a few models, all with `embedding_size=300` and `N_EPOCHS=5` (for fairness and computational reasons), and with the following hyper parameters (you may use that as captions for the models as well):\n",
        "\n",
        "- Model 1: (hidden_size: 500, n_layers: 1, directions: 1)\n",
        "- Model 2: (hidden_size: 500, n_layers: 2, directions: 1)\n",
        "- Model 3: (hidden_size: 500, n_layers: 3, directions: 1)\n",
        "- Model 4: (hidden_size: 500, n_layers: 1, directions: 2)\n",
        "- Model 5: (hidden_size: 500, n_layers: 2, directions: 2)\n",
        "- Model 6: (hidden_size: 500, n_layers: 3, directions: 2)\n",
        "- Model 7: (hidden_size: 800, n_layers: 1, directions: 2)\n",
        "- Model 8: (hidden_size: 800, n_layers: 2, directions: 2)\n",
        "- Model 9: (hidden_size: 800, n_layers: 3, directions: 2)\n",
        "\n",
        "\n"
      ]
    },
    {
      "cell_type": "code",
      "source": [
        "N_EPOCHS = 5\n",
        "EMB_DIM = 300"
      ],
      "metadata": {
        "id": "U3RcWmNAsoTj"
      },
      "execution_count": null,
      "outputs": []
    },
    {
      "cell_type": "markdown",
      "source": [
        "Here is an example (random numbers) of the display of the results):"
      ],
      "metadata": {
        "id": "OCaaeKV2CZF-"
      }
    },
    {
      "cell_type": "code",
      "source": [
        "# Example:\n",
        "results_acc = np.random.rand(9, 10)\n",
        "columns = ['N_MODEL','HIDDEN_SIZE','N_LAYERS','DIRECTIONS','RECALL','PERCISION','F1','RECALL_WO_O','PERCISION_WO_O','F1_WO_O']\n",
        "df = pd.DataFrame(results_acc, columns=columns)\n",
        "df.N_MODEL = [f'model_{n}' for n in range(1,10)]\n",
        "print(tabulate(df, headers='keys', tablefmt='psql',floatfmt=\".4f\"))"
      ],
      "metadata": {
        "id": "Im49dRJeCjdv"
      },
      "execution_count": null,
      "outputs": []
    },
    {
      "cell_type": "code",
      "source": [
        "# Define models with their hyperparameters\n",
        "models = {\n",
        "  'Model1': {'embedding_size': EMB_DIM, 'hidden_size': 500, 'n_layers': 1, 'directions': 1},\n",
        "  'Model2': {'embedding_size': EMB_DIM, 'hidden_size': 500, 'n_layers': 2, 'directions': 1},\n",
        "  'Model3': {'embedding_size': EMB_DIM, 'hidden_size': 500, 'n_layers': 3, 'directions': 1},\n",
        "  'Model4': {'embedding_size': EMB_DIM, 'hidden_size': 500, 'n_layers': 1, 'directions': 2},\n",
        "  'Model5': {'embedding_size': EMB_DIM, 'hidden_size': 500, 'n_layers': 2, 'directions': 2},\n",
        "  'Model6': {'embedding_size': EMB_DIM, 'hidden_size': 500, 'n_layers': 3, 'directions': 2},\n",
        "  'Model7': {'embedding_size': EMB_DIM, 'hidden_size': 800, 'n_layers': 1, 'directions': 2},\n",
        "  'Model8': {'embedding_size': EMB_DIM, 'hidden_size': 800, 'n_layers': 2, 'directions': 2},\n",
        "  'Model9': {'embedding_size': EMB_DIM, 'hidden_size': 800, 'n_layers': 3, 'directions': 2},\n",
        "}\n",
        "\n",
        "# TO DO ----------------------------------------------------------------------\n",
        "\n",
        "# TO DO ----------------------------------------------------------------------\n",
        "\n",
        "# Print results in tabulated format\n",
        "print(tabulate(results_dev, headers='keys', tablefmt='psql', floatfmt=\".4f\"))"
      ],
      "metadata": {
        "id": "MWJREQ236dzV"
      },
      "execution_count": null,
      "outputs": []
    },
    {
      "cell_type": "markdown",
      "source": [
        "## Step 3: Evaluate on Test Set\n",
        "Evaluate your models on the test set and save the results as a CSV. Add this file to your repo for submission."
      ],
      "metadata": {
        "id": "U4o5joZgA1YE"
      }
    },
    {
      "cell_type": "code",
      "metadata": {
        "id": "gTNmBU6hycZl"
      },
      "source": [
        "results = pd.DataFrame(columns=columns)\n",
        "file_name = \"NER_results.csv\"\n",
        "# TO DO ----------------------------------------------------------------------\n",
        "\n",
        "# TO DO ----------------------------------------------------------------------\n",
        "print(tabulate(results, headers='keys', tablefmt='psql',floatfmt=\".4f\"))\n"
      ],
      "execution_count": null,
      "outputs": []
    },
    {
      "cell_type": "markdown",
      "source": [
        "## Step 4 - best model\n",
        "Decide which model performs the best, write its configuration, train it for 5 more epochs and evaluate it on the test set."
      ],
      "metadata": {
        "id": "8Y4U4eHmShw8"
      }
    },
    {
      "cell_type": "code",
      "source": [
        "best_model_cfg = {'embedding_size':EMB_DIM, 'hidden_size': -1, 'n_layers': -1, 'directions': -1}\n",
        "# TO DO ----------------------------------------------------------------------\n",
        "\n",
        "# TO DO ----------------------------------------------------------------------"
      ],
      "metadata": {
        "id": "M3TnKYqmSvds"
      },
      "execution_count": null,
      "outputs": []
    },
    {
      "cell_type": "markdown",
      "source": [
        "<br><br><br><br><br>"
      ],
      "metadata": {
        "id": "rsCfk8caB3iU"
      }
    },
    {
      "cell_type": "markdown",
      "source": [
        "# Part 4 - Pretrained Embeddings"
      ],
      "metadata": {
        "id": "nF_jrCkpCVUD"
      }
    },
    {
      "cell_type": "markdown",
      "metadata": {
        "id": "UM74r0_8nk5s"
      },
      "source": [
        "\n",
        "\n",
        "To prepare for this task, please read [this discussion](https://discuss.pytorch.org/t/can-we-use-pre-trained-word-embeddings-for-weight-initialization-in-nn-embedding/1222).\n",
        "\n",
        "**TIP**: Ensure that the vectors are aligned with the IDs in your vocabulary. In other words, make sure that the word with ID 0 corresponds to the first vector in the GloVe matrix used to initialize `nn.Embedding`.\n",
        "\n"
      ]
    },
    {
      "cell_type": "markdown",
      "source": [
        "## Step 1: Get Data"
      ],
      "metadata": {
        "id": "A6rrSb-bFoTa"
      }
    },
    {
      "cell_type": "markdown",
      "source": [
        "\n",
        "\n",
        "Download the GloVe embeddings from [this link](https://nlp.stanford.edu/projects/glove/). Use the 300-dimensional vectors from `glove.6B.zip`.\n",
        "\n"
      ],
      "metadata": {
        "id": "dscQwqxvBP5-"
      }
    },
    {
      "cell_type": "code",
      "source": [
        "# TO DO ----------------------------------------------------------------------\n",
        "\n",
        "# TO DO ----------------------------------------------------------------------"
      ],
      "metadata": {
        "id": "gbY3bBiH_9E8"
      },
      "execution_count": null,
      "outputs": []
    },
    {
      "cell_type": "markdown",
      "source": [
        "## Step 2: Inject Embeddings"
      ],
      "metadata": {
        "id": "eBLEK9R3Fxye"
      }
    },
    {
      "cell_type": "markdown",
      "source": [
        "Then intialize the `nn.Embedding` module in your `NERNet` with these embeddings, so that you can start your training with pre-trained vectors."
      ],
      "metadata": {
        "id": "xH8ybhqY_8US"
      }
    },
    {
      "cell_type": "code",
      "source": [
        "def get_emb_matrix(filepath: str, vocab: Vocab) -> np.ndarray:\n",
        "  emb_matrix = np.zeros((len(vocab.word2id), 300))\n",
        "  # TO DO ----------------------------------------------------------------------\n",
        "\n",
        "  # TO DO ----------------------------------------------------------------------\n",
        "  return emb_matrix"
      ],
      "metadata": {
        "id": "OXSEIjfe9DSy"
      },
      "execution_count": null,
      "outputs": []
    },
    {
      "cell_type": "code",
      "source": [
        "def initialize_from_pretrained_emb(model: NERNet, emb_matrix: np.ndarray):\n",
        "  \"\"\"\n",
        "  Inject the pretrained embeddings into the model.\n",
        "  :param model: model instance\n",
        "  :param emb_matrix: pretrained embeddings\n",
        "  \"\"\"\n",
        "  # TO DO ----------------------------------------------------------------------\n",
        "\n",
        "  # TO DO ----------------------------------------------------------------------"
      ],
      "metadata": {
        "id": "I56mqREnVRey"
      },
      "execution_count": null,
      "outputs": []
    },
    {
      "cell_type": "code",
      "source": [
        "# Read embeddings and inject them to a model\n",
        "emb_file = 'glove.6B.300d.txt'\n",
        "emb_matrix = get_emb_matrix(emb_file, vocab)\n",
        "ner_glove = NERNet(input_size=VOCAB_SIZE, embedding_size=EMB_DIM, hidden_size=500, output_size=NUM_TAGS, n_layers=1, directions=1)\n",
        "initialize_from_pretrained_emb(ner_glove, emb_matrix)"
      ],
      "metadata": {
        "id": "lf0byP9y_9jG"
      },
      "execution_count": null,
      "outputs": []
    },
    {
      "cell_type": "markdown",
      "source": [
        "## Step 3: Evaluate on Test Set"
      ],
      "metadata": {
        "id": "JElogtlHF4DN"
      }
    },
    {
      "cell_type": "markdown",
      "source": [
        "Same as the evaluation process before, please display:\n",
        "\n",
        "1. Print a `RECALL-PERCISION-F1` scores in a tabulate format.\n",
        "2. Display a `confusion matrix` plot: where the predicted labels are the rows, and the true labels are the columns.\n",
        "\n",
        "Make sure to use the title for the plot, axis names, and the names of the tags on the X-axis.\n",
        "\n",
        "Make sure to download and upload this CSV as well."
      ],
      "metadata": {
        "id": "Obm_WN4_ALmM"
      }
    },
    {
      "cell_type": "code",
      "source": [
        "results = pd.DataFrame(columns=columns)\n",
        "file_name = \"NER_results_glove.csv\"\n",
        "# TO DO ----------------------------------------------------------------------\n",
        "\n",
        "# TO DO ----------------------------------------------------------------------\n",
        "print(tabulate(results, headers='keys', tablefmt='psql',floatfmt=\".4f\"))"
      ],
      "metadata": {
        "id": "c7Xw3h6mAhRw"
      },
      "execution_count": null,
      "outputs": []
    },
    {
      "cell_type": "markdown",
      "source": [
        "## Step 4 - best model\n",
        "Decide which model performs the best, write its configuration, train it for 5 more epochs and evaluate it on the test set."
      ],
      "metadata": {
        "id": "c5XrhAdNXShg"
      }
    },
    {
      "cell_type": "code",
      "source": [
        "best_model_glove_cfg = {'embedding_size':EMB_DIM, 'hidden_size': -1, 'n_layers': -1, 'directions': -1}\n",
        "# TO DO ----------------------------------------------------------------------\n",
        "\n",
        "# TO DO ----------------------------------------------------------------------"
      ],
      "metadata": {
        "id": "QHI_ECNwXR-7"
      },
      "execution_count": null,
      "outputs": []
    },
    {
      "cell_type": "markdown",
      "source": [
        "# Part 5 - Error Analysis"
      ],
      "metadata": {
        "id": "z5vt-crDKzwA"
      }
    },
    {
      "cell_type": "markdown",
      "source": [
        "In this part, you'll analyze the errors made by your best model to understand its strengths and weaknesses."
      ],
      "metadata": {
        "id": "su5BqB2nKz6K"
      }
    },
    {
      "cell_type": "markdown",
      "source": [
        "## Step 1: Extract Predictions\n",
        "\n",
        "First, let's extract predictions from your best model on the test set:"
      ],
      "metadata": {
        "id": "s0YbktMuK0P1"
      }
    },
    {
      "cell_type": "code",
      "source": [
        "def get_predictions(model, dataloader, vocab, PAD_TOKEN, DEVICE):\n",
        "    \"\"\"\n",
        "    Get predictions from the model on a dataloader.\n",
        "\n",
        "    Returns:\n",
        "        - true_tags_list: List of lists of true tag strings\n",
        "        - pred_tags_list: List of lists of predicted tag strings\n",
        "        - words_list: List of lists of words\n",
        "    \"\"\"\n",
        "    import torch\n",
        "\n",
        "    model.eval()\n",
        "    true_tags_list = []\n",
        "    pred_tags_list = []\n",
        "    words_list = []\n",
        "\n",
        "    with torch.no_grad():\n",
        "        # Handle different dataloader output formats\n",
        "        for batch in dataloader:\n",
        "            # Unpack based on actual dataloader output\n",
        "            if len(batch) == 3:  # (input_ids, casing_features, labels)\n",
        "                input_ids, casing_features, labels = batch\n",
        "                # Move tensors to device\n",
        "                input_ids = input_ids.to(DEVICE)\n",
        "                casing_features = casing_features.to(DEVICE)\n",
        "                labels = labels.to(DEVICE)\n",
        "\n",
        "                # Get model predictions\n",
        "                outputs = model(input_ids, casing_features)\n",
        "            else:  # (input_ids, labels)\n",
        "                input_ids, labels = batch\n",
        "                # Move tensors to device\n",
        "                input_ids = input_ids.to(DEVICE)\n",
        "                labels = labels.to(DEVICE)\n",
        "\n",
        "                # Get model predictions\n",
        "                outputs = model(input_ids)\n",
        "\n",
        "            _, predicted = torch.max(outputs, 2)\n",
        "\n",
        "            # Process each sequence in the batch\n",
        "            for i in range(input_ids.size(0)):\n",
        "                # Get sequence length (ignoring padding)\n",
        "                seq_len = (input_ids[i] != PAD_TOKEN).sum().item()\n",
        "\n",
        "                # Convert ids to tag strings and words\n",
        "                true_tags = [vocab.id2tag[tag.item()] for tag in labels[i][:seq_len]]\n",
        "                pred_tags = [vocab.id2tag[tag.item()] for tag in predicted[i][:seq_len]]\n",
        "                words = [vocab.id2word[word.item()] for word in input_ids[i][:seq_len]]\n",
        "\n",
        "                true_tags_list.append(true_tags)\n",
        "                pred_tags_list.append(pred_tags)\n",
        "                words_list.append(words)\n",
        "\n",
        "    return true_tags_list, pred_tags_list, words_list"
      ],
      "metadata": {
        "id": "kP4tEV8HK-Bt"
      },
      "execution_count": null,
      "outputs": []
    },
    {
      "cell_type": "markdown",
      "source": [
        "## Step 2: Implement Simple Error Analysis\n",
        "\n",
        "Now, implement a function to analyze the errors in predictions:"
      ],
      "metadata": {
        "id": "Aclr0JGILAcQ"
      }
    },
    {
      "cell_type": "code",
      "source": [
        "def simple_analyze_errors(true_tags, pred_tags, words):\n",
        "    \"\"\"\n",
        "    Analyze errors in NER predictions.\n",
        "\n",
        "    Args:\n",
        "        true_tags: List of true tag sequences\n",
        "        pred_tags: List of predicted tag sequences\n",
        "        words: List of word sequences\n",
        "\n",
        "    Returns:\n",
        "        dict: Error statistics and examples\n",
        "    \"\"\"\n",
        "    # TODO: Implement error analysis\n",
        "    # 1. Initialize error categories\n",
        "    # 2. Process each sequence to identify errors\n",
        "    # 3. Categorize errors and collect examples\n",
        "    # 4. Return statistics and examples\n",
        "\n",
        "    # Placeholder\n",
        "    return {\n",
        "        'total_entities': 0,\n",
        "        'correct_entities': 0,\n",
        "        'accuracy': 0.0,\n",
        "        'error_counts': {},\n",
        "        'error_examples': {}\n",
        "    }"
      ],
      "metadata": {
        "id": "IZZqT0vELC_A"
      },
      "execution_count": null,
      "outputs": []
    },
    {
      "cell_type": "markdown",
      "source": [
        "## Step 3: Helper Functions\n",
        "\n",
        "Implement these helper functions to extract entities and check for overlapping spans:"
      ],
      "metadata": {
        "id": "26q-EgUULFat"
      }
    },
    {
      "cell_type": "code",
      "source": [
        "def get_entities_simple(tags):\n",
        "    \"\"\"\n",
        "    Extract entities from a sequence of tags.\n",
        "    Returns list of (start_idx, end_idx, entity_type) tuples.\n",
        "    \"\"\"\n",
        "    # TODO: Implement entity extraction\n",
        "    return []\n",
        "\n",
        "def has_overlap(start1, end1, start2, end2):\n",
        "    \"\"\"Check if two spans overlap\"\"\"\n",
        "    # TODO: Implement overlap checking\n",
        "    return False"
      ],
      "metadata": {
        "id": "iIcVbJPXLI5C"
      },
      "execution_count": null,
      "outputs": []
    },
    {
      "cell_type": "markdown",
      "source": [
        "## Step 4: Visualization and Analysis\n",
        "\n",
        "Create a function to display the error analysis results:"
      ],
      "metadata": {
        "id": "BhJmRicNLLYa"
      }
    },
    {
      "cell_type": "code",
      "source": [
        "def print_error_analysis(analysis):\n",
        "    \"\"\"Print a summary of the error analysis results\"\"\"\n",
        "    # TODO: Implement printing function to show:\n",
        "    # 1. Basic statistics (total entities, correct entities, accuracy)\n",
        "    # 2. Error counts by category\n",
        "    # 3. Examples of each error type\n",
        "    # 4. Suggestions for improvement based on findings\n",
        "    pass"
      ],
      "metadata": {
        "id": "HeyN_NRWLN9j"
      },
      "execution_count": null,
      "outputs": []
    },
    {
      "cell_type": "markdown",
      "source": [
        "## Step 5: Improvement Suggestions\n",
        "\n",
        "Based on your error analysis, suggest at least three specific improvements to your model. Consider:\n",
        "\n",
        "1. What types of errors are most common?\n",
        "2. Are there patterns in the errors (e.g., specific entity types, contexts)?\n",
        "3. What techniques might address these specific error types?\n",
        "\n",
        "Write your suggestions in 3-5 sentences for each improvement."
      ],
      "metadata": {
        "id": "XFDfxsPhLV98"
      }
    },
    {
      "cell_type": "code",
      "source": [
        "# Example usage\n",
        "if __name__ == \"__main__\":\n",
        "    # Sample data for testing\n",
        "    true_tags = [\n",
        "        ['O', 'B-PER', 'I-PER', 'O', 'B-LOC', 'I-LOC', 'O'],\n",
        "        ['B-ORG', 'I-ORG', 'O', 'B-PER', 'O']\n",
        "    ]\n",
        "\n",
        "    pred_tags = [\n",
        "        ['O', 'B-PER', 'O', 'O', 'B-ORG', 'I-ORG', 'O'],\n",
        "        ['B-ORG', 'I-ORG', 'I-ORG', 'B-PER', 'O']\n",
        "    ]\n",
        "\n",
        "    words = [\n",
        "        ['The', 'John', 'Smith', 'visited', 'New', 'York', 'yesterday'],\n",
        "        ['Google', 'Inc', 'hired', 'Alice', 'recently']\n",
        "    ]\n",
        "\n",
        "    # Run the error analysis\n",
        "    analysis = simple_analyze_errors(true_tags_list, pred_tags_list, words_list)\n",
        "    print_error_analysis(analysis)\n",
        "\n",
        "    # TODO: Write your improvement suggestions here"
      ],
      "metadata": {
        "id": "grl9rhhsLWp2"
      },
      "execution_count": null,
      "outputs": []
    },
    {
      "cell_type": "markdown",
      "source": [
        "# Testing\n",
        "Copy the content of the **tests.py** file from the repo and paste below. This will create the results.json file and download it to your machine."
      ],
      "metadata": {
        "id": "8cUiLd_gCRO_"
      }
    },
    {
      "cell_type": "code",
      "source": [
        "####################\n",
        "# PLACE TESTS HERE #\n",
        "train_ds = read_data(\"data/train.txt\")\n",
        "dev_ds = read_data(\"data/dev.txt\")\n",
        "test_ds = read_data(\"data/test.txt\")\n",
        "def test_read_data():\n",
        "    result = {\n",
        "        'lengths': (len(train_ds), len(dev_ds), len(test_ds)),\n",
        "    }\n",
        "    return result\n",
        "\n",
        "vocab = Vocab(train_ds)\n",
        "def test_vocab():\n",
        "    sent = vocab.index_words([\"I\", \"am\", \"Spongebob\"])\n",
        "    return {\n",
        "        'length': vocab.n_words,\n",
        "        'tag2id_length': len(vocab.tag2id),\n",
        "        \"Spongebob\": sent[2]\n",
        "    }\n",
        "\n",
        "train_sequences = prepare_data(train_ds, vocab)\n",
        "dev_sequences = prepare_data(dev_ds, vocab)\n",
        "test_sequences = prepare_data(test_ds, vocab)\n",
        "\n",
        "def test_count_oov():\n",
        "    return {\n",
        "        'dev_oov': count_oov(dev_sequences),\n",
        "        'test_oov': count_oov(test_sequences)\n",
        "    }\n",
        "\n",
        "BATCH_SIZE = 16\n",
        "dl_train = prepare_data_loader(train_sequences, batch_size=BATCH_SIZE)\n",
        "dl_dev = prepare_data_loader(dev_sequences, batch_size=BATCH_SIZE, train=False)\n",
        "dl_test = prepare_data_loader(test_sequences, batch_size=BATCH_SIZE, train=False)\n",
        "\n",
        "def test_prepare_data_loader():\n",
        "    return {\n",
        "        'lengths': (len(dl_train), len(dl_dev), len(dl_test))\n",
        "    }\n",
        "\n",
        "\n",
        "def test_NERNet():\n",
        "    # Extract best model configuration\n",
        "    hidden_size = best_model_cfg['hidden_size']\n",
        "    n_layers = best_model_cfg['n_layers']\n",
        "    directions = best_model_cfg['directions']\n",
        "\n",
        "\n",
        "    # Create model\n",
        "    best_model = NERNet(vocab.n_words, embedding_size=300, hidden_size=hidden_size, output_size=vocab.n_tags, n_layers=n_layers, directions=directions)\n",
        "    best_model.to(DEVICE)\n",
        "\n",
        "    # Train model and evaluate\n",
        "    _ = train_loop(best_model, n_epochs=10, dataloader_train=dl_train, dataloader_dev=dl_dev)\n",
        "    results = evaluate(best_model, title=\"\", dataloader=dl_test, vocab=vocab)\n",
        "\n",
        "    return {\n",
        "        'f1': results['F1'],\n",
        "        'f1_wo_o': results['F1_WO_O'],\n",
        "    }\n",
        "\n",
        "def test_glove():\n",
        "    # Get embeddings\n",
        "    emb_file = 'glove.6B.300d.txt'\n",
        "    emb_matrix = get_emb_matrix(emb_file, vocab)\n",
        "\n",
        "    # Extract best model configuration\n",
        "    hidden_size = best_model_glove_cfg['hidden_size']\n",
        "    n_layers = best_model_glove_cfg['n_layers']\n",
        "    directions = best_model_glove_cfg['directions']\n",
        "\n",
        "    # Create model\n",
        "    best_model = NERNet(vocab.n_words, embedding_size=300, hidden_size=hidden_size, output_size=vocab.n_tags, n_layers=n_layers, directions=directions)\n",
        "    best_model.to(DEVICE)\n",
        "    initialize_from_pretrained_emb(ner_glove, emb_matrix)\n",
        "\n",
        "    # Train model and evaluate\n",
        "    _ = train_loop(best_model, n_epochs=10, dataloader_train=dl_train, dataloader_dev=dl_dev)\n",
        "    results = evaluate(best_model, title=\"\", dataloader=dl_test, vocab=vocab)\n",
        "\n",
        "    return {\n",
        "        'f1': results['F1'],\n",
        "        'f1_wo_o': results['F1_WO_O'],\n",
        "    }\n",
        "\n",
        "TESTS = [\n",
        "    test_read_data,\n",
        "    test_vocab,\n",
        "    test_count_oov,\n",
        "    test_prepare_data_loader,\n",
        "    test_NERNet,\n",
        "    test_glove\n",
        "]\n",
        "\n",
        "# Run tests and save results\n",
        "res = {}\n",
        "for test in TESTS:\n",
        "    try:\n",
        "        cur_res = test()\n",
        "        res.update({test.__name__: cur_res})\n",
        "    except Exception as e:\n",
        "        res.update({test.__name__: repr(e)})\n",
        "\n",
        "with open('results.json', 'w') as f:\n",
        "    json.dump(res, f, indent=2)\n",
        "\n",
        "# Download the results.json file\n",
        "files.download('results.json')\n",
        "\n",
        "####################\n"
      ],
      "metadata": {
        "id": "UMVrbY0SCRja"
      },
      "execution_count": null,
      "outputs": []
    }
  ]
}